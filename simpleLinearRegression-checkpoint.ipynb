{
 "cells": [
  {
   "cell_type": "markdown",
   "metadata": {
    "id": "YSxqBsX1otOX"
   },
   "source": [
    "Simple linear regression"
   ]
  },
  {
   "cell_type": "code",
   "execution_count": 63,
   "metadata": {
    "id": "wC76MebGopjx"
   },
   "outputs": [],
   "source": [
    "import numpy as np\n",
    "import matplotlib.pyplot as plt\n",
    "from sklearn.datasets import make_regression"
   ]
  },
  {
   "cell_type": "code",
   "execution_count": 71,
   "metadata": {
    "colab": {
     "base_uri": "https://localhost:8080/"
    },
    "id": "-fXVtswgpDbA",
    "outputId": "75e98468-d501-4924-9675-75924ea6725e"
   },
   "outputs": [
    {
     "data": {
      "text/plain": [
       "<matplotlib.collections.PathCollection at 0x268485d8af0>"
      ]
     },
     "execution_count": 71,
     "metadata": {},
     "output_type": "execute_result"
    },
    {
     "data": {
      "image/png": "[encoded data removed]",
      "text/plain": [
       "<Figure size 432x288 with 1 Axes>"
      ]
     },
     "metadata": {
      "needs_background": "light"
     },
     "output_type": "display_data"
    }
   ],
   "source": [
    "x , y = make_regression(n_features=1,n_samples=100,noise=15)\n",
    "plt.scatter(x,y)"
   ]
  },
  {
   "cell_type": "code",
   "execution_count": 74,
   "metadata": {},
   "outputs": [
    {
     "name": "stdout",
     "output_type": "stream",
     "text": [
      "(100, 1)\n",
      "(100, 1)\n"
     ]
    }
   ],
   "source": [
    "y.resize(y.shape[0],1)\n",
    "print(x.shape)\n",
    "print(y.shape)"
   ]
  },
  {
   "cell_type": "code",
   "execution_count": 87,
   "metadata": {},
   "outputs": [
    {
     "data": {
      "text/plain": [
       "array([[0.09893249],\n",
       "       [0.13931511]])"
      ]
     },
     "execution_count": 87,
     "metadata": {},
     "output_type": "execute_result"
    }
   ],
   "source": [
    "X = np.hstack([x,np.ones([100,1])])\n",
    "theta = np.random.rand(2,1)\n",
    "theta"
   ]
  },
  {
   "cell_type": "code",
   "execution_count": 108,
   "metadata": {
    "colab": {
     "base_uri": "https://localhost:8080/"
    },
    "id": "WTxDWgo6pM_W",
    "outputId": "18adaf1f-ef5c-4859-bfa6-e74679f6f5c0"
   },
   "outputs": [
    {
     "data": {
      "text/plain": [
       "[<matplotlib.lines.Line2D at 0x2684908cbb0>]"
      ]
     },
     "execution_count": 108,
     "metadata": {},
     "output_type": "execute_result"
    },
    {
     "data": {
      "image/png": "[encoded data removed]",
      "text/plain": [
       "<Figure size 432x288 with 1 Axes>"
      ]
     },
     "metadata": {
      "needs_background": "light"
     },
     "output_type": "display_data"
    }
   ],
   "source": [
    "#defining our model\n",
    "def model(X,theta):\n",
    "  return X.dot(theta) \n",
    "model(X,theta1)\n",
    "plt.scatter(x,y)\n",
    "plt.plot(x,model(X,theta1))"
   ]
  },
  {
   "cell_type": "code",
   "execution_count": 104,
   "metadata": {
    "colab": {
     "base_uri": "https://localhost:8080/"
    },
    "id": "2gHXQTgYsid3",
    "outputId": "9b1e2cf1-efa3-4196-b963-dd8a3a5c9dba"
   },
   "outputs": [],
   "source": [
    "#cost function\n",
    "def costFunction(x,y,theta):\n",
    "    y_p =   model(x,theta) - y\n",
    "    print(y_p)\n",
    "    m = len(y_p)\n",
    "    return 1/2*m*(np.sum(y_p)**2)"
   ]
  },
  {
   "cell_type": "markdown",
   "metadata": {
    "id": "12-lhYe0vDrT"
   },
   "source": [
    "# **Gradient descent **\n"
   ]
  },
  {
   "cell_type": "code",
   "execution_count": 93,
   "metadata": {
    "id": "GTnHUEFIvDRN"
   },
   "outputs": [],
   "source": [
    "def grad(x,y,theta):\n",
    "  m = len(y)\n",
    "  return (1/m) * (x.T.dot(model(X,theta) - y))\n",
    "  #2,4 ,4,1"
   ]
  },
  {
   "cell_type": "code",
   "execution_count": 94,
   "metadata": {
    "colab": {
     "base_uri": "https://localhost:8080/"
    },
    "id": "m16RznU4vUg6",
    "outputId": "1d9cf7be-375e-40f2-e31e-ce6f5788b7d3"
   },
   "outputs": [
    {
     "name": "stdout",
     "output_type": "stream",
     "text": [
      "[[-53.68925687]\n",
      " [ -5.81149046]]\n"
     ]
    }
   ],
   "source": [
    "print(grad(X,y,theta))\n",
    "def gradient_descent(x,y,theta, learning_rate, numberOfIterations):\n",
    "  for i in range(0,numberOfIterations):\n",
    "    theta = theta - learning_rate*grad(x,y,theta)\n",
    "    \n",
    "  return theta  "
   ]
  },
  {
   "cell_type": "markdown",
   "metadata": {
    "id": "aWj7n8c_xj-N"
   },
   "source": [
    "# *** Machine Learning ***\n"
   ]
  },
  {
   "cell_type": "code",
   "execution_count": 117,
   "metadata": {
    "colab": {
     "base_uri": "https://localhost:8080/",
     "height": 352
    },
    "id": "QJ_WsgfPw98c",
    "outputId": "9fbde264-abee-4134-9423-52dfb2802e72"
   },
   "outputs": [
    {
     "data": {
      "text/plain": [
       "[<matplotlib.lines.Line2D at 0x2684a20ebb0>]"
      ]
     },
     "execution_count": 117,
     "metadata": {},
     "output_type": "execute_result"
    },
    {
     "data": {
      "image/png": "[encoded data removed]",
      "text/plain": [
       "<Figure size 432x288 with 1 Axes>"
      ]
     },
     "metadata": {
      "needs_background": "light"
     },
     "output_type": "display_data"
    }
   ],
   "source": [
    "theta_final = gradient_descent(X,y,theta,0.0001,2000000)\n",
    "plt.scatter(x,y)\n",
    "plt.plot(x,model(X,theta_final),c = 'r')"
   ]
  },
  {
   "cell_type": "code",
   "execution_count": null,
   "metadata": {},
   "outputs": [],
   "source": []
  }
 ],
 "metadata": {
  "colab": {
   "collapsed_sections": [],
   "provenance": []
  },
  "kernelspec": {
   "display_name": "Python 3",
   "language": "python",
   "name": "python3"
  },
  "language_info": {
   "codemirror_mode": {
    "name": "ipython",
    "version": 3
   },
   "file_extension": ".py",
   "mimetype": "text/x-python",
   "name": "python",
   "nbconvert_exporter": "python",
   "pygments_lexer": "ipython3",
   "version": "3.8.5"
  }
 },
 "nbformat": 4,
 "nbformat_minor": 1
}
